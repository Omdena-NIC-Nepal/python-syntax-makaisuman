{
 "cells": [
  {
   "cell_type": "code",
   "execution_count": 2,
   "metadata": {},
   "outputs": [
    {
     "ename": "NameError",
     "evalue": "name 'format_string' is not defined",
     "output_type": "error",
     "traceback": [
      "\u001b[1;31m---------------------------------------------------------------------------\u001b[0m",
      "\u001b[1;31mNameError\u001b[0m                                 Traceback (most recent call last)",
      "Cell \u001b[1;32mIn[2], line 1\u001b[0m\n\u001b[1;32m----> 1\u001b[0m format_string(\u001b[38;5;124m\"\u001b[39m\u001b[38;5;124mSuman\u001b[39m\u001b[38;5;124m\"\u001b[39m, \u001b[38;5;241m32\u001b[39m)\n",
      "\u001b[1;31mNameError\u001b[0m: name 'format_string' is not defined"
     ]
    }
   ],
   "source": [
    "format_string(\"Suman\", 32)"
   ]
  },
  {
   "cell_type": "code",
   "execution_count": 13,
   "metadata": {},
   "outputs": [],
   "source": [
    "def format_string(name, age):\n",
    "    \"\"\"\n",
    "    Create a formatted string using f-strings.\n",
    "    Args:\n",
    "        name (str): Person's name\n",
    "        age (int): Person's age\n",
    "    Returns:\n",
    "        str: Formatted string\n",
    "    \"\"\"\n",
    "    name= name\n",
    "    age= age\n",
    "    return f\"My name is {name} and I am {age} old\""
   ]
  },
  {
   "cell_type": "code",
   "execution_count": 6,
   "metadata": {},
   "outputs": [],
   "source": [
    "def conditional_check(number):\n",
    "    if number > 10:\n",
    "        return \"Greater\"\n",
    "    elif number < 10:\n",
    "        return \"Lesser\"\n",
    "    else:\n",
    "        return \"Equal\""
   ]
  },
  {
   "cell_type": "code",
   "execution_count": 7,
   "metadata": {},
   "outputs": [
    {
     "data": {
      "text/plain": [
       "'Greater'"
      ]
     },
     "execution_count": 7,
     "metadata": {},
     "output_type": "execute_result"
    }
   ],
   "source": [
    "conditional_check(20)"
   ]
  },
  {
   "cell_type": "code",
   "execution_count": 8,
   "metadata": {},
   "outputs": [],
   "source": [
    "def loop_sum(n):\n",
    "    sumOfNumber = 0\n",
    "    for i in range(1, n + 1):\n",
    "        sumOfNumber= sumOfNumber + i\n",
    "    return sumOfNumber"
   ]
  },
  {
   "cell_type": "code",
   "execution_count": 9,
   "metadata": {},
   "outputs": [
    {
     "data": {
      "text/plain": [
       "15"
      ]
     },
     "execution_count": 9,
     "metadata": {},
     "output_type": "execute_result"
    }
   ],
   "source": [
    "loop_sum(5)"
   ]
  },
  {
   "cell_type": "code",
   "execution_count": 16,
   "metadata": {},
   "outputs": [],
   "source": [
    "def list_operations(numbers):\n",
    "    # Initialize sum, max, and min\n",
    "    sumOfNumber = 0\n",
    "    max_value = numbers[0]\n",
    "    min_value = numbers[0]\n",
    "    \n",
    "    # Loop through the list to calculate sum, max, and min\n",
    "    for num in numbers:\n",
    "        # Calculate the sum\n",
    "        sumOfNumber = sumOfNumber + num\n",
    "        \n",
    "        # Update max_value if current number is greater\n",
    "        if num > max_value:\n",
    "            max_value = num\n",
    "        \n",
    "        # Update min_value if current number is smaller\n",
    "        if num < min_value:\n",
    "            min_value = num\n",
    "    \n",
    "    return sumOfNumber, max_value, min_value"
   ]
  },
  {
   "cell_type": "code",
   "execution_count": null,
   "metadata": {},
   "outputs": [],
   "source": []
  },
  {
   "cell_type": "code",
   "execution_count": 17,
   "metadata": {},
   "outputs": [
    {
     "name": "stdout",
     "output_type": "stream",
     "text": [
      "<class 'tuple'>\n",
      "(200, 100, 1)\n"
     ]
    }
   ],
   "source": [
    "mylist = [100, 50,1,29, 20]\n",
    "list_operations(mylist)\n",
    "print(type(list_operations(mylist)))\n",
    "print(list_operations(mylist))"
   ]
  },
  {
   "cell_type": "code",
   "execution_count": 19,
   "metadata": {},
   "outputs": [],
   "source": [
    "def dict_operations(students_dict):\n",
    "    \n",
    "    above_80_students = []\n",
    "    \n",
    "    for student, score in students_dict.items():\n",
    "        if score > 80:\n",
    "            above_80_students.append(student)\n",
    "    \n",
    "    return above_80_students"
   ]
  },
  {
   "cell_type": "code",
   "execution_count": 24,
   "metadata": {},
   "outputs": [
    {
     "data": {
      "text/plain": [
       "{2, 4}"
      ]
     },
     "execution_count": 24,
     "metadata": {},
     "output_type": "execute_result"
    }
   ],
   "source": [
    "list1=[1,2,3,4]\n",
    "list2 = [2,4,5,6,7]\n",
    "\n",
    "set1= set(list1)\n",
    "set2= set(list2)\n",
    "\n",
    "common_elements = set1.intersection(set2)\n",
    "common_elements"
   ]
  },
  {
   "cell_type": "code",
   "execution_count": null,
   "metadata": {},
   "outputs": [],
   "source": []
  }
 ],
 "metadata": {
  "kernelspec": {
   "display_name": "base",
   "language": "python",
   "name": "python3"
  },
  "language_info": {
   "codemirror_mode": {
    "name": "ipython",
    "version": 3
   },
   "file_extension": ".py",
   "mimetype": "text/x-python",
   "name": "python",
   "nbconvert_exporter": "python",
   "pygments_lexer": "ipython3",
   "version": "3.12.4"
  }
 },
 "nbformat": 4,
 "nbformat_minor": 2
}
